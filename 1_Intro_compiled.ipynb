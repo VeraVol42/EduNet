{
 "cells": [
  {
   "cell_type": "markdown",
   "metadata": {},
   "source": [
    "# 1.1 Машинное обучение"
   ]
  },
  {
   "cell_type": "markdown",
   "metadata": {},
   "source": [
    "### 1.1.1 Место глубокого обучения и нейронных сетей в ИИ\n",
    "<img src =\"http://fmb.images.gan4x4.ru/msu/intro_v1/Intro1.png\" >\n",
    "\n",
    "**Искусственный интеллект (AI/ИИ)**  ~= область ИТ/Computer science связанная с моделированием интеллектуальных или творческих видов человеческой деятельности.\n",
    "\n",
    "**Машинное обучение(ML)** - подраздел ИИ связанный с обучением на данных, он не единственный. Например базы знаний или многоагентные системы также относят к разделам ИИ. \n",
    "\n",
    "**Глубокое обучение (Deep Learning, DL)** ~= Многослойная нейросеть (MLP = multi layer perceptron)"
   ]
  },
  {
   "cell_type": "markdown",
   "metadata": {},
   "source": [
    "### 1.1.2 Области применения DL\n",
    "\n",
    "<img src =\"http://fmb.images.gan4x4.ru/msu/intro_v1/Intro2.png\" >\n",
    "\n",
    "В последнее время, технологии DL успешно применяются для решения задач в области компьютерного зрения (Computer Vision, CV), oбработки текстов на естественных языках (NLP)(извлечение смысла, машинный перевод), распознавание речи.\n",
    "\n",
    "В данном курсе мы подробно рассмотрим технологии DL применяющиеся в этих областях."
   ]
  },
  {
   "cell_type": "markdown",
   "metadata": {},
   "source": [
    "### 1.1.3 Связь DL с наукой\n",
    "\n",
    "<img src =\"http://fmb.images.gan4x4.ru/msu/intro_v1/Intro3.png\" >\n",
    "\n",
    "Помимо прикладных задач существуют еще и научные исследования, результаты которых до известной степени непредсказуемы. Несльзя исключить что он появятся в областях где технологии DL до сих пор активно не использовались.\n",
    "\n",
    " Поддержка такого рода исследований есть основная задача курса нашего курса.\n",
    "\n",
    "\n",
    " Вариант2:\n",
    "\n",
    " Мы видим что NN уже нашли применение в множестве массовых(типовых) задач которые нас окружают.\n",
    "\n",
    "Однако каждая научная работа индивидуальна, в этом состоит сложность: только автор понимает как обрабатываются данные в его предметной области и как следует оценить результат.\n",
    "\n",
    "Но не всегда ученые особенно из естественных или гуманитарных областей готовы самостоятельно применить ML к объекту своих исследований.\n",
    "Поэтому мы здесь ..."
   ]
  },
  {
   "cell_type": "code",
   "execution_count": null,
   "metadata": {},
   "outputs": [],
   "source": [
    "# 1.2 История глубокого обучения\n",
    "\n",
    "* 1957 Перцептрон,  Фрэнк Розенблатт\n",
    "* 1959 Hubel & Wiesel\n",
    "* 1959 \"The XOR affair\" Marvin Minsky, Seymour Papert\n",
    "* 1975 Cognitron: A self-organizing multilayered neural network K.Fukushima, \n",
    "* 1986 Backpropagation Rumelhart, Hinton & Williams ( 1974 А. И. Галушкин)\n",
    "* 1989 LeNet.  LeCun,  et al\n",
    "* 2012 AlexNet Krizhevsky et al"
   ]
  },
  {
   "cell_type": "markdown",
   "metadata": {},
   "source": [
    "### 1.2.2 Победа нейросети AlexNet на соревновании ImageNet в 2012\n",
    "\n",
    "<img src =\"http://fmb.images.gan4x4.ru/msu/intro_v1/Intro4.png\" >\n",
    "\n",
    "### 1.2.3 ImageNet: Large Scale Visual Recognition Challenge (ILSVRC)\n",
    "\n",
    "<img src =\"http://fmb.images.gan4x4.ru/msu/intro_v1/Intro5.png\" >\n",
    "\n"
   ]
  },
  {
   "cell_type": "markdown",
   "metadata": {},
   "source": [
    "## 1.3 Области применения DL в настоящее время\n",
    "\n",
    "### 1.3.1  Робототехника\n",
    "\n",
    "<img src =\"http://fmb.images.gan4x4.ru/msu/intro_v1/Intro6.png\" >\n",
    "Беспилотные автомобили Self-Driving Car и дроны\n",
    "Промышленные и бытовые роботы.\n",
    "\n",
    "### 1.3.2 Безопасность\n",
    "\n",
    "<img src =\"http://fmb.images.gan4x4.ru/msu/intro_v1/Intro7.png\" >\n",
    "\n",
    "\n",
    "Видеоаналитика, контроль доступа, распознавние лиц, номеров.\n",
    "\n",
    "\n",
    "### 1.3.3 Интернет и дополненная реальность\n",
    "\n",
    "<img src =\"http://fmb.images.gan4x4.ru/msu/intro_v1/Intro8.png\" >\n",
    "\n",
    "Поиск в том числе семантический. Анализ контента, в том числе визуального. Машинный перевод. Распознавание речи.\n",
    "\n",
    "\n",
    "\n",
    "### 1.3.4 Медицина\n",
    "\n",
    "- добавить примеров\n",
    "\n",
    "### 1.3.5 Применение DL в научных исследованиях\n",
    "<img src =\"http://fmb.images.gan4x4.ru/msu/intro_v1/Intro9.png\" >\n",
    "<img src =\"http://fmb.images.gan4x4.ru/msu/intro_v1/Intro10.png\" >\n",
    "\n",
    "\n",
    "\n",
    "### 1.3.7 Причины успехов технологий на основе DL\n",
    "\n",
    "<img src =\"http://fmb.images.gan4x4.ru/msu/intro_v1/Intro11.png\" >\n"
   ]
  }
 ],
 "metadata": {
  "kernelspec": {
   "display_name": "Python 3",
   "language": "python",
   "name": "python3"
  },
  "language_info": {
   "codemirror_mode": {
    "name": "ipython",
    "version": 3
   },
   "file_extension": ".py",
   "mimetype": "text/x-python",
   "name": "python",
   "nbconvert_exporter": "python",
   "pygments_lexer": "ipython3",
   "version": "3.6.5"
  }
 },
 "nbformat": 4,
 "nbformat_minor": 2
}
